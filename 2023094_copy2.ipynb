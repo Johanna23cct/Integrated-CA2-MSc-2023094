{
 "cells": [
  {
   "cell_type": "code",
   "execution_count": 1,
   "id": "c60e3191",
   "metadata": {},
   "outputs": [],
   "source": [
    "# https://github.com/johanna23cct/integrated-CA2-MSc-2023094.git"
   ]
  },
  {
   "cell_type": "code",
   "execution_count": 2,
   "id": "0494ccbc",
   "metadata": {},
   "outputs": [],
   "source": [
    "#git remote add origin https://github.com/johanna23cct/integrated-CA2-MSc-2023094.git\n",
    "#git branch -M main\n",
    "#git push -u origin main"
   ]
  },
  {
   "cell_type": "code",
   "execution_count": 3,
   "id": "96e2bd7c",
   "metadata": {},
   "outputs": [
    {
     "name": "stdout",
     "output_type": "stream",
     "text": [
      "Requirement already satisfied: skforecast in /home/hduser/.local/lib/python3.10/site-packages (0.10.1)\n",
      "Requirement already satisfied: numpy<1.26,>=1.20 in /home/hduser/.local/lib/python3.10/site-packages (from skforecast) (1.24.3)\n",
      "Requirement already satisfied: optuna<3.3,>=2.10.0 in /home/hduser/.local/lib/python3.10/site-packages (from skforecast) (3.2.0)\n",
      "Requirement already satisfied: scikit-learn<1.4,>=1.0 in /home/hduser/.local/lib/python3.10/site-packages (from skforecast) (1.3.0)\n",
      "Requirement already satisfied: pandas<2.1,>=1.2 in /home/hduser/.local/lib/python3.10/site-packages (from skforecast) (2.0.3)\n",
      "Requirement already satisfied: tqdm<4.66,>=4.57.0 in /home/hduser/.local/lib/python3.10/site-packages (from skforecast) (4.65.2)\n",
      "Requirement already satisfied: joblib<1.4,>=1.1.0 in /home/hduser/.local/lib/python3.10/site-packages (from skforecast) (1.3.2)\n",
      "Requirement already satisfied: packaging>=20.0 in /usr/lib/python3/dist-packages (from optuna<3.3,>=2.10.0->skforecast) (21.3)\n",
      "Requirement already satisfied: alembic>=1.5.0 in /home/hduser/.local/lib/python3.10/site-packages (from optuna<3.3,>=2.10.0->skforecast) (1.12.0)\n",
      "Requirement already satisfied: cmaes>=0.9.1 in /home/hduser/.local/lib/python3.10/site-packages (from optuna<3.3,>=2.10.0->skforecast) (0.10.0)\n",
      "Requirement already satisfied: colorlog in /home/hduser/.local/lib/python3.10/site-packages (from optuna<3.3,>=2.10.0->skforecast) (6.7.0)\n",
      "Requirement already satisfied: PyYAML in /usr/lib/python3/dist-packages (from optuna<3.3,>=2.10.0->skforecast) (5.4.1)\n",
      "Requirement already satisfied: sqlalchemy>=1.3.0 in /home/hduser/.local/lib/python3.10/site-packages (from optuna<3.3,>=2.10.0->skforecast) (2.0.22)\n",
      "Requirement already satisfied: pytz>=2020.1 in /usr/lib/python3/dist-packages (from pandas<2.1,>=1.2->skforecast) (2022.1)\n",
      "Requirement already satisfied: python-dateutil>=2.8.2 in /home/hduser/.local/lib/python3.10/site-packages (from pandas<2.1,>=1.2->skforecast) (2.8.2)\n",
      "Requirement already satisfied: tzdata>=2022.1 in /home/hduser/.local/lib/python3.10/site-packages (from pandas<2.1,>=1.2->skforecast) (2023.3)\n",
      "Requirement already satisfied: threadpoolctl>=2.0.0 in /home/hduser/.local/lib/python3.10/site-packages (from scikit-learn<1.4,>=1.0->skforecast) (3.2.0)\n",
      "Requirement already satisfied: scipy>=1.5.0 in /usr/lib/python3/dist-packages (from scikit-learn<1.4,>=1.0->skforecast) (1.8.0)\n",
      "Requirement already satisfied: Mako in /usr/lib/python3/dist-packages (from alembic>=1.5.0->optuna<3.3,>=2.10.0->skforecast) (1.1.3)\n",
      "Requirement already satisfied: typing-extensions>=4 in /home/hduser/.local/lib/python3.10/site-packages (from alembic>=1.5.0->optuna<3.3,>=2.10.0->skforecast) (4.5.0)\n",
      "Requirement already satisfied: six>=1.5 in /usr/lib/python3/dist-packages (from python-dateutil>=2.8.2->pandas<2.1,>=1.2->skforecast) (1.16.0)\n",
      "Requirement already satisfied: greenlet!=0.4.17 in /home/hduser/.local/lib/python3.10/site-packages (from sqlalchemy>=1.3.0->optuna<3.3,>=2.10.0->skforecast) (3.0.0)\n",
      "Note: you may need to restart the kernel to use updated packages.\n"
     ]
    }
   ],
   "source": [
    "pip install skforecast --user"
   ]
  },
  {
   "cell_type": "code",
   "execution_count": 4,
   "id": "5b68e89f",
   "metadata": {
    "scrolled": true
   },
   "outputs": [],
   "source": [
    "# Data manipulation\n",
    "# ==============================================================================\n",
    "import numpy as np\n",
    "import pandas as pd\n",
    "\n",
    "# Plots\n",
    "# ==============================================================================\n",
    "import matplotlib.pyplot as plt\n",
    "plt.style.use('fivethirtyeight')\n",
    "plt.rcParams['lines.linewidth'] = 1.5\n",
    "%matplotlib inline\n",
    "\n",
    "# Modeling and Forecasting\n",
    "# ==============================================================================\n",
    "from sklearn.linear_model import LinearRegression\n",
    "from sklearn.linear_model import Lasso\n",
    "from sklearn.ensemble import RandomForestRegressor\n",
    "from sklearn.metrics import mean_squared_error\n",
    "from sklearn.preprocessing import StandardScaler\n",
    "from sklearn.pipeline import make_pipeline\n",
    "\n",
    "from skforecast.ForecasterAutoreg import ForecasterAutoreg\n",
    "from skforecast.ForecasterAutoregCustom import ForecasterAutoregCustom\n",
    "#from skforecast.ForecasterAutoregMultiOutput import ForecasterAutoregMultiOutput\n",
    "from skforecast.model_selection import grid_search_forecaster\n",
    "from skforecast.model_selection import backtesting_forecaster\n",
    "\n",
    "from joblib import dump, load\n",
    "\n",
    "# Spark\n",
    "from pyspark.sql import SparkSession\n",
    "\n",
    "\n",
    "# Warnings configuration\n",
    "# ==============================================================================\n",
    "import warnings\n",
    "# warnings.filterwarnings('ignore')"
   ]
  },
  {
   "cell_type": "code",
   "execution_count": 5,
   "id": "22943cb8",
   "metadata": {},
   "outputs": [],
   "source": [
    "# SparkContext HOW I CAN SHOW THAT ... SC  IS NOT WORKING TO ME!"
   ]
  },
  {
   "cell_type": "code",
   "execution_count": 6,
   "id": "8cc08cf9",
   "metadata": {},
   "outputs": [],
   "source": [
    "# import SparkSession library \n",
    "from pyspark.sql import SparkSession\n",
    "from pyspark.sql.types import StructType, StructField, StringType, IntegerType, TimestampType\n",
    "\n",
    "spark = SparkSession.builder.appName('data_projectTweets').getOrCreate()"
   ]
  },
  {
   "cell_type": "code",
   "execution_count": 7,
   "id": "ce48466d",
   "metadata": {},
   "outputs": [],
   "source": [
    "# creating a customer dataframe by declaring the schema and passing values\n",
    "import pyspark.sql.functions as F\n",
    "from pyspark.sql.types import *\n",
    "\n",
    "# create custom Dataframe by declaring the schema\n",
    "\n",
    "schema = StructType().add(\"Ids\",\"integer\").add(\"Date\",\"string\").add(\"Flag\", \"string\").add(\"User\",'string').add(\"Text\", \"string\")"
   ]
  },
  {
   "cell_type": "code",
   "execution_count": 8,
   "id": "b1a847a4",
   "metadata": {},
   "outputs": [],
   "source": [
    "# insert the values\n",
    "df = spark.createDataFrame([(1467810369, \"Mon apr 06 22:19:45 PDT 2009\", \"NoQuery\", \"_theSpecialOne\", \"@switchfoot http://twitpic.com/2y1zl - Awww, t...\"), (1467810672, \"Mon Apr 06 22:19:49 PDT 2009\", \"NO_QUERY\", \"scotthamilton\", \"is upset that he can not update his Facebook b...\" ), (1467811184, \"Mon Apr 06 22:19:57 PDT 2009\", \"NO_QUERY\", \"mattycus\",\"@Kenichan I dived many times for the ball. Man...\")],schema=schema)"
   ]
  },
  {
   "cell_type": "code",
   "execution_count": 9,
   "id": "b548e663",
   "metadata": {},
   "outputs": [
    {
     "name": "stdout",
     "output_type": "stream",
     "text": [
      "root\n",
      " |-- Ids: integer (nullable = true)\n",
      " |-- Date: string (nullable = true)\n",
      " |-- Flag: string (nullable = true)\n",
      " |-- User: string (nullable = true)\n",
      " |-- Text: string (nullable = true)\n",
      "\n"
     ]
    }
   ],
   "source": [
    "# Display the structure of Schema\n",
    "df.printSchema()"
   ]
  },
  {
   "cell_type": "code",
   "execution_count": 10,
   "id": "27c55502",
   "metadata": {},
   "outputs": [
    {
     "name": "stderr",
     "output_type": "stream",
     "text": [
      "                                                                                \r"
     ]
    },
    {
     "name": "stdout",
     "output_type": "stream",
     "text": [
      "+----------+--------------------+--------+--------------+--------------------+\n",
      "|       Ids|                Date|    Flag|          User|                Text|\n",
      "+----------+--------------------+--------+--------------+--------------------+\n",
      "|1467810369|Mon apr 06 22:19:...| NoQuery|_theSpecialOne|@switchfoot http:...|\n",
      "|1467810672|Mon Apr 06 22:19:...|NO_QUERY| scotthamilton|is upset that he ...|\n",
      "|1467811184|Mon Apr 06 22:19:...|NO_QUERY|      mattycus|@Kenichan I dived...|\n",
      "+----------+--------------------+--------+--------------+--------------------+\n",
      "\n"
     ]
    }
   ],
   "source": [
    "# Show the data\n",
    "df.show()"
   ]
  },
  {
   "cell_type": "code",
   "execution_count": 11,
   "id": "493a4a7e",
   "metadata": {},
   "outputs": [],
   "source": [
    "# Create a new dataframe with nukll values \n",
    "df_na = spark.createDataFrame([(1467810369, \"Mon apr 06 22:19:45 PDT 2009\", None, \"_theSpecialOne\", \"@switchfoot http://twitpic.com/2y1zl - Awww, t...\"), (1467810672, \"Mon Apr 06 22:19:49 PDT 2009\", None, \"scotthamilton\", \"is upset that he can not update his Facebook b...\" ), (1467811184, \"Mon Apr 06 22:19:57 PDT 2009\", None, \"mattycus\",\"@Kenichan I dived many times for the ball. Man...\")],schema=schema)"
   ]
  },
  {
   "cell_type": "code",
   "execution_count": 12,
   "id": "78b906be",
   "metadata": {},
   "outputs": [
    {
     "name": "stdout",
     "output_type": "stream",
     "text": [
      "+----------+--------------------+----+--------------+--------------------+\n",
      "|       Ids|                Date|Flag|          User|                Text|\n",
      "+----------+--------------------+----+--------------+--------------------+\n",
      "|1467810369|Mon apr 06 22:19:...|null|_theSpecialOne|@switchfoot http:...|\n",
      "|1467810672|Mon Apr 06 22:19:...|null| scotthamilton|is upset that he ...|\n",
      "|1467811184|Mon Apr 06 22:19:...|null|      mattycus|@Kenichan I dived...|\n",
      "+----------+--------------------+----+--------------+--------------------+\n",
      "\n"
     ]
    }
   ],
   "source": [
    "df_na.show()"
   ]
  },
  {
   "cell_type": "code",
   "execution_count": 13,
   "id": "4b68e928",
   "metadata": {},
   "outputs": [
    {
     "name": "stdout",
     "output_type": "stream",
     "text": [
      "+----------+--------------------+----+--------------+--------------------+\n",
      "|       Ids|                Date|Flag|          User|                Text|\n",
      "+----------+--------------------+----+--------------+--------------------+\n",
      "|1467810369|Mon apr 06 22:19:...|   0|_theSpecialOne|@switchfoot http:...|\n",
      "|1467810672|Mon Apr 06 22:19:...|   0| scotthamilton|is upset that he ...|\n",
      "|1467811184|Mon Apr 06 22:19:...|   0|      mattycus|@Kenichan I dived...|\n",
      "+----------+--------------------+----+--------------+--------------------+\n",
      "\n"
     ]
    }
   ],
   "source": [
    "# fill all null values with 0\n",
    "df_na.fillna('0').show()"
   ]
  },
  {
   "cell_type": "code",
   "execution_count": 14,
   "id": "f7529d95",
   "metadata": {},
   "outputs": [
    {
     "name": "stdout",
     "output_type": "stream",
     "text": [
      "+----------+--------------------+----+--------------+--------------------+\n",
      "|       Ids|                Date|Flag|          User|                Text|\n",
      "+----------+--------------------+----+--------------+--------------------+\n",
      "|1467810369|Mon apr 06 22:19:...|null|_theSpecialOne|@switchfoot http:...|\n",
      "|1467810672|Mon Apr 06 22:19:...|null| scotthamilton|is upset that he ...|\n",
      "|1467811184|Mon Apr 06 22:19:...|null|      mattycus|@Kenichan I dived...|\n",
      "+----------+--------------------+----+--------------+--------------------+\n",
      "\n"
     ]
    }
   ],
   "source": [
    "# fill null values with specific value\n",
    "df_na.fillna( { 'Ids':'1467811372', 'User':'elleCTF' } ).show()"
   ]
  },
  {
   "cell_type": "code",
   "execution_count": 15,
   "id": "988a8e25",
   "metadata": {},
   "outputs": [
    {
     "name": "stdout",
     "output_type": "stream",
     "text": [
      "+---+----+----+----+----+\n",
      "|Ids|Date|Flag|User|Text|\n",
      "+---+----+----+----+----+\n",
      "+---+----+----+----+----+\n",
      "\n"
     ]
    }
   ],
   "source": [
    "# Return new df omitting rows with null values\n",
    "df_na.na.drop().show()"
   ]
  },
  {
   "cell_type": "code",
   "execution_count": 16,
   "id": "9fb6ef80",
   "metadata": {},
   "outputs": [
    {
     "name": "stdout",
     "output_type": "stream",
     "text": [
      "+---+----+----+----+----+\n",
      "|Ids|Date|Flag|User|Text|\n",
      "+---+----+----+----+----+\n",
      "+---+----+----+----+----+\n",
      "\n"
     ]
    }
   ],
   "source": [
    "df_na.na.drop(subset='Flag').show()"
   ]
  },
  {
   "cell_type": "code",
   "execution_count": 17,
   "id": "78da9cf5",
   "metadata": {},
   "outputs": [
    {
     "name": "stdout",
     "output_type": "stream",
     "text": [
      "+----------+--------------------+----+--------------+--------------------+\n",
      "|       Ids|                Date|Flag|          User|                Text|\n",
      "+----------+--------------------+----+--------------+--------------------+\n",
      "|1467810369|Mon apr 06 22:19:...|null|_theSpecialOne|@switchfoot http:...|\n",
      "|1467810672|Mon Apr 06 22:19:...|null| scotthamilton|is upset that he ...|\n",
      "|1467811184|Mon Apr 06 22:19:...|null|      mattycus|@Kenichan I dived...|\n",
      "+----------+--------------------+----+--------------+--------------------+\n",
      "\n"
     ]
    }
   ],
   "source": [
    "df_na.replace(\"0\",\"No Query\").show()"
   ]
  },
  {
   "cell_type": "code",
   "execution_count": 18,
   "id": "c45feec4",
   "metadata": {},
   "outputs": [
    {
     "name": "stdout",
     "output_type": "stream",
     "text": [
      "+----------+--------------------+--------------+--------------------+\n",
      "|       Ids|                Date|          User|                Text|\n",
      "+----------+--------------------+--------------+--------------------+\n",
      "|1467810369|Mon apr 06 22:19:...|_theSpecialOne|@switchfoot http:...|\n",
      "|1467810672|Mon Apr 06 22:19:...| scotthamilton|is upset that he ...|\n",
      "|1467811184|Mon Apr 06 22:19:...|      mattycus|@Kenichan I dived...|\n",
      "+----------+--------------------+--------------+--------------------+\n",
      "\n"
     ]
    }
   ],
   "source": [
    "#deleting column \n",
    "df.drop('Flag').show()"
   ]
  },
  {
   "cell_type": "code",
   "execution_count": 1,
   "id": "fdb47f44",
   "metadata": {},
   "outputs": [],
   "source": [
    "# big headache and fever\n",
    "#    (command)+(file://)+(path)+(filename)\n",
    "\n",
    "#df = spark.read.csv('/home/hduser/Documents/CA2', header=True, inferSchema=True)"
   ]
  },
  {
   "cell_type": "code",
   "execution_count": 19,
   "id": "02317436",
   "metadata": {},
   "outputs": [
    {
     "name": "stderr",
     "output_type": "stream",
     "text": [
      "                                                                                \r"
     ]
    }
   ],
   "source": [
    "#loading the dataset into a Dataframe\n",
    "\n",
    "\n",
    "df = spark.read.csv(\"file:///home/hduser/Documents/CA2/ProjectTweets.csv\", header=True, inferSchema = True)"
   ]
  },
  {
   "cell_type": "code",
   "execution_count": null,
   "id": "cd24a29f",
   "metadata": {},
   "outputs": [],
   "source": []
  },
  {
   "cell_type": "code",
   "execution_count": null,
   "id": "f73e960d",
   "metadata": {},
   "outputs": [],
   "source": []
  },
  {
   "cell_type": "code",
   "execution_count": null,
   "id": "05e8145d",
   "metadata": {},
   "outputs": [],
   "source": []
  },
  {
   "cell_type": "code",
   "execution_count": null,
   "id": "9d94c258",
   "metadata": {},
   "outputs": [],
   "source": []
  },
  {
   "cell_type": "code",
   "execution_count": null,
   "id": "545c0d83",
   "metadata": {},
   "outputs": [],
   "source": []
  },
  {
   "cell_type": "code",
   "execution_count": null,
   "id": "934591b4",
   "metadata": {},
   "outputs": [],
   "source": []
  },
  {
   "cell_type": "code",
   "execution_count": null,
   "id": "59b3f984",
   "metadata": {},
   "outputs": [],
   "source": []
  },
  {
   "cell_type": "code",
   "execution_count": null,
   "id": "bc51d73e",
   "metadata": {},
   "outputs": [],
   "source": []
  },
  {
   "cell_type": "code",
   "execution_count": null,
   "id": "6108c6ca",
   "metadata": {},
   "outputs": [],
   "source": []
  },
  {
   "cell_type": "code",
   "execution_count": null,
   "id": "600c9822",
   "metadata": {},
   "outputs": [],
   "source": []
  },
  {
   "cell_type": "code",
   "execution_count": null,
   "id": "4b04d50b",
   "metadata": {},
   "outputs": [],
   "source": []
  },
  {
   "cell_type": "code",
   "execution_count": null,
   "id": "4b2d4622",
   "metadata": {},
   "outputs": [],
   "source": []
  },
  {
   "cell_type": "code",
   "execution_count": null,
   "id": "f6463135",
   "metadata": {},
   "outputs": [],
   "source": []
  },
  {
   "cell_type": "code",
   "execution_count": 26,
   "id": "cb3a246d",
   "metadata": {},
   "outputs": [],
   "source": [
    "column_names  = ['Ids', 'Date', 'Flag', 'User', 'Text']    \n",
    "full_df = pd.read_csv('ProjectTweets.csv', header=None, names=column_names)"
   ]
  },
  {
   "cell_type": "code",
   "execution_count": 27,
   "id": "b64a2555",
   "metadata": {},
   "outputs": [
    {
     "name": "stdout",
     "output_type": "stream",
     "text": [
      "(1600000, 5)\n"
     ]
    }
   ],
   "source": [
    "print(full_df.shape)"
   ]
  },
  {
   "cell_type": "code",
   "execution_count": 28,
   "id": "43c94e55",
   "metadata": {},
   "outputs": [
    {
     "data": {
      "text/plain": [
       "Ids     1600000\n",
       "Date    1600000\n",
       "Flag    1600000\n",
       "User    1600000\n",
       "Text    1600000\n",
       "dtype: int64"
      ]
     },
     "execution_count": 28,
     "metadata": {},
     "output_type": "execute_result"
    }
   ],
   "source": [
    "# Count the number of records\n",
    "full_df.count()"
   ]
  },
  {
   "cell_type": "code",
   "execution_count": 29,
   "id": "c77733de",
   "metadata": {
    "scrolled": true
   },
   "outputs": [
    {
     "data": {
      "text/html": [
       "<div>\n",
       "<style scoped>\n",
       "    .dataframe tbody tr th:only-of-type {\n",
       "        vertical-align: middle;\n",
       "    }\n",
       "\n",
       "    .dataframe tbody tr th {\n",
       "        vertical-align: top;\n",
       "    }\n",
       "\n",
       "    .dataframe thead th {\n",
       "        text-align: right;\n",
       "    }\n",
       "</style>\n",
       "<table border=\"1\" class=\"dataframe\">\n",
       "  <thead>\n",
       "    <tr style=\"text-align: right;\">\n",
       "      <th></th>\n",
       "      <th>Ids</th>\n",
       "      <th>Date</th>\n",
       "      <th>Flag</th>\n",
       "      <th>User</th>\n",
       "      <th>Text</th>\n",
       "    </tr>\n",
       "  </thead>\n",
       "  <tbody>\n",
       "    <tr>\n",
       "      <th>0</th>\n",
       "      <td>1467810369</td>\n",
       "      <td>Mon Apr 06 22:19:45 PDT 2009</td>\n",
       "      <td>NO_QUERY</td>\n",
       "      <td>_TheSpecialOne_</td>\n",
       "      <td>@switchfoot http://twitpic.com/2y1zl - Awww, t...</td>\n",
       "    </tr>\n",
       "    <tr>\n",
       "      <th>1</th>\n",
       "      <td>1467810672</td>\n",
       "      <td>Mon Apr 06 22:19:49 PDT 2009</td>\n",
       "      <td>NO_QUERY</td>\n",
       "      <td>scotthamilton</td>\n",
       "      <td>is upset that he can't update his Facebook by ...</td>\n",
       "    </tr>\n",
       "    <tr>\n",
       "      <th>2</th>\n",
       "      <td>1467810917</td>\n",
       "      <td>Mon Apr 06 22:19:53 PDT 2009</td>\n",
       "      <td>NO_QUERY</td>\n",
       "      <td>mattycus</td>\n",
       "      <td>@Kenichan I dived many times for the ball. Man...</td>\n",
       "    </tr>\n",
       "    <tr>\n",
       "      <th>3</th>\n",
       "      <td>1467811184</td>\n",
       "      <td>Mon Apr 06 22:19:57 PDT 2009</td>\n",
       "      <td>NO_QUERY</td>\n",
       "      <td>ElleCTF</td>\n",
       "      <td>my whole body feels itchy and like its on fire</td>\n",
       "    </tr>\n",
       "    <tr>\n",
       "      <th>4</th>\n",
       "      <td>1467811193</td>\n",
       "      <td>Mon Apr 06 22:19:57 PDT 2009</td>\n",
       "      <td>NO_QUERY</td>\n",
       "      <td>Karoli</td>\n",
       "      <td>@nationwideclass no, it's not behaving at all....</td>\n",
       "    </tr>\n",
       "  </tbody>\n",
       "</table>\n",
       "</div>"
      ],
      "text/plain": [
       "          Ids                          Date      Flag             User  \\\n",
       "0  1467810369  Mon Apr 06 22:19:45 PDT 2009  NO_QUERY  _TheSpecialOne_   \n",
       "1  1467810672  Mon Apr 06 22:19:49 PDT 2009  NO_QUERY    scotthamilton   \n",
       "2  1467810917  Mon Apr 06 22:19:53 PDT 2009  NO_QUERY         mattycus   \n",
       "3  1467811184  Mon Apr 06 22:19:57 PDT 2009  NO_QUERY          ElleCTF   \n",
       "4  1467811193  Mon Apr 06 22:19:57 PDT 2009  NO_QUERY           Karoli   \n",
       "\n",
       "                                                Text  \n",
       "0  @switchfoot http://twitpic.com/2y1zl - Awww, t...  \n",
       "1  is upset that he can't update his Facebook by ...  \n",
       "2  @Kenichan I dived many times for the ball. Man...  \n",
       "3    my whole body feels itchy and like its on fire   \n",
       "4  @nationwideclass no, it's not behaving at all....  "
      ]
     },
     "execution_count": 29,
     "metadata": {},
     "output_type": "execute_result"
    }
   ],
   "source": [
    "full_df.head()"
   ]
  },
  {
   "cell_type": "code",
   "execution_count": 31,
   "id": "afe1117f",
   "metadata": {},
   "outputs": [
    {
     "ename": "NameError",
     "evalue": "name 'data' is not defined",
     "output_type": "error",
     "traceback": [
      "\u001b[0;31m---------------------------------------------------------------------------\u001b[0m",
      "\u001b[0;31mNameError\u001b[0m                                 Traceback (most recent call last)",
      "\u001b[0;32m/tmp/ipykernel_7553/948159679.py\u001b[0m in \u001b[0;36m<module>\u001b[0;34m\u001b[0m\n\u001b[0;32m----> 1\u001b[0;31m \u001b[0mrows_df\u001b[0m \u001b[0;34m=\u001b[0m \u001b[0mpd\u001b[0m\u001b[0;34m.\u001b[0m\u001b[0mDataFrame\u001b[0m\u001b[0;34m(\u001b[0m\u001b[0mdata\u001b[0m\u001b[0;34m,\u001b[0m \u001b[0mcolumns\u001b[0m\u001b[0;34m=\u001b[0m\u001b[0;34m[\u001b[0m\u001b[0;34m'Ids'\u001b[0m\u001b[0;34m,\u001b[0m \u001b[0;34m'Date'\u001b[0m\u001b[0;34m,\u001b[0m \u001b[0;34m'Flag'\u001b[0m\u001b[0;34m,\u001b[0m \u001b[0;34m'User'\u001b[0m\u001b[0;34m,\u001b[0m \u001b[0;34m'Text'\u001b[0m\u001b[0;34m]\u001b[0m\u001b[0;34m)\u001b[0m\u001b[0;34m\u001b[0m\u001b[0;34m\u001b[0m\u001b[0m\n\u001b[0m",
      "\u001b[0;31mNameError\u001b[0m: name 'data' is not defined"
     ]
    }
   ],
   "source": [
    "rows_df = pd.DataFrame(data, columns=['Ids', 'Date', 'Flag', 'User', 'Text'])"
   ]
  },
  {
   "cell_type": "code",
   "execution_count": null,
   "id": "a6355c2c",
   "metadata": {},
   "outputs": [],
   "source": [
    "print(rows_df)"
   ]
  },
  {
   "cell_type": "code",
   "execution_count": null,
   "id": "e14644c8",
   "metadata": {},
   "outputs": [],
   "source": []
  },
  {
   "cell_type": "code",
   "execution_count": null,
   "id": "d0f7a55f",
   "metadata": {},
   "outputs": [],
   "source": []
  },
  {
   "cell_type": "code",
   "execution_count": null,
   "id": "c42db868",
   "metadata": {},
   "outputs": [],
   "source": []
  },
  {
   "cell_type": "code",
   "execution_count": null,
   "id": "1d4de8bb",
   "metadata": {},
   "outputs": [],
   "source": []
  },
  {
   "cell_type": "code",
   "execution_count": null,
   "id": "e1276b61",
   "metadata": {},
   "outputs": [],
   "source": []
  },
  {
   "cell_type": "code",
   "execution_count": null,
   "id": "c54c2580",
   "metadata": {},
   "outputs": [],
   "source": []
  },
  {
   "cell_type": "code",
   "execution_count": null,
   "id": "4b6ff6df",
   "metadata": {},
   "outputs": [],
   "source": []
  },
  {
   "cell_type": "code",
   "execution_count": null,
   "id": "6680cd84",
   "metadata": {},
   "outputs": [],
   "source": []
  },
  {
   "cell_type": "code",
   "execution_count": null,
   "id": "331ff69b",
   "metadata": {},
   "outputs": [],
   "source": []
  },
  {
   "cell_type": "code",
   "execution_count": 33,
   "id": "27a825c9",
   "metadata": {},
   "outputs": [
    {
     "name": "stdout",
     "output_type": "stream",
     "text": [
      "Original DataFrame:\n",
      "          Ids Data      Flag             User  \\\n",
      "0  1467810369  NaN  NO_QUERY  _TheSpecialOne_   \n",
      "1  1467810672  NaN  NO_QUERY    scotthamilton   \n",
      "2  1467811184  NaN  NO_QUERY         mattycus   \n",
      "\n",
      "                                                Text  \n",
      "0  @switchfoot http://twitpic.com/2y1zl - Awww, t...  \n",
      "1  is upset that he can not update his Facebook b...  \n",
      "2  @Kenichan I dived many times for the ball. Man...  \n",
      "\n",
      "Transposed DataFrame:\n",
      "                                                      0  \\\n",
      "Ids                                          1467810369   \n",
      "Data                                                NaN   \n",
      "Flag                                           NO_QUERY   \n",
      "User                                    _TheSpecialOne_   \n",
      "Text  @switchfoot http://twitpic.com/2y1zl - Awww, t...   \n",
      "\n",
      "                                                      1  \\\n",
      "Ids                                          1467810672   \n",
      "Data                                                NaN   \n",
      "Flag                                           NO_QUERY   \n",
      "User                                      scotthamilton   \n",
      "Text  is upset that he can not update his Facebook b...   \n",
      "\n",
      "                                                      2  \n",
      "Ids                                          1467811184  \n",
      "Data                                                NaN  \n",
      "Flag                                           NO_QUERY  \n",
      "User                                           mattycus  \n",
      "Text  @Kenichan I dived many times for the ball. Man...  \n"
     ]
    }
   ],
   "source": [
    "data = {\n",
    "    'Ids': [1467810369, 1467810672, 1467811184],\n",
    "    'Date': ['Mon Apr 06 22:19:45 PDT 2009', 'Mon Apr 06 22:19:49 PDT 2009', 'Mon Apr 06 22:19:57 PDT 2009'],\n",
    "    'Flag': ['NO_QUERY', 'NO_QUERY', 'NO_QUERY'],\n",
    "    'User': ['_TheSpecialOne_', 'scotthamilton', 'mattycus'],\n",
    "    'Text': ['@switchfoot http://twitpic.com/2y1zl - Awww, that is a bummer. You shoulda got David Carr of Third Day to do it. ;D', 'is upset that he can not update his Facebook by ...', '@Kenichan I dived many times for the ball. Man...']\n",
    "}\n",
    "\n",
    "rows_df = pd.DataFrame(data, columns=['Ids', 'Data', 'Flag', 'User', 'Text'])\n",
    "\n",
    "# Transpose the DataFrame (swap rows  and columns)\n",
    "transposed_rows_df = rows_df.transpose()\n",
    "\n",
    "# use the 'T' attribute to transpose the DataFrame\n",
    "# transposed_df = df.T\n",
    "\n",
    "print(\"Original DataFrame:\")\n",
    "print(rows_df)\n",
    "print(\"\\nTransposed DataFrame:\")\n",
    "print(transposed_rows_df)"
   ]
  },
  {
   "cell_type": "code",
   "execution_count": 34,
   "id": "7e2c4e91",
   "metadata": {},
   "outputs": [
    {
     "data": {
      "text/plain": [
       "(3, 5)"
      ]
     },
     "execution_count": 34,
     "metadata": {},
     "output_type": "execute_result"
    }
   ],
   "source": [
    "rows_df.shape"
   ]
  },
  {
   "cell_type": "code",
   "execution_count": null,
   "id": "4bbd8298",
   "metadata": {},
   "outputs": [],
   "source": []
  }
 ],
 "metadata": {
  "kernelspec": {
   "display_name": "Python 3 (ipykernel)",
   "language": "python",
   "name": "python3"
  },
  "language_info": {
   "codemirror_mode": {
    "name": "ipython",
    "version": 3
   },
   "file_extension": ".py",
   "mimetype": "text/x-python",
   "name": "python",
   "nbconvert_exporter": "python",
   "pygments_lexer": "ipython3",
   "version": "3.10.12"
  }
 },
 "nbformat": 4,
 "nbformat_minor": 5
}
